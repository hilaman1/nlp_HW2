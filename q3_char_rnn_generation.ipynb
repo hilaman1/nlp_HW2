{
 "nbformat": 4,
 "nbformat_minor": 0,
 "metadata": {
  "anaconda-cloud": {},
  "kernelspec": {
   "display_name": "Python 3",
   "language": "python",
   "name": "python3"
  },
  "language_info": {
   "codemirror_mode": {
    "name": "ipython",
    "version": 3
   },
   "file_extension": ".py",
   "mimetype": "text/x-python",
   "name": "python",
   "nbconvert_exporter": "python",
   "pygments_lexer": "ipython3",
   "version": "3.8.0"
  },
  "pycharm": {
   "stem_cell": {
    "cell_type": "raw",
    "metadata": {
     "collapsed": false
    },
    "source": []
   }
  },
  "colab": {
   "provenance": [],
   "gpuType": "T4"
  },
  "accelerator": "GPU",
  "gpuClass": "standard"
 },
 "cells": [
  {
   "cell_type": "markdown",
   "metadata": {
    "id": "XPKTqQ3W8qLt"
   },
   "source": [
    "To begin copy this notebook to your own drive:\n",
    "\n",
    "![image.png](data:image/png;base64,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)\n",
    "\n",
    "\n",
    "### Submission Instructions:\n",
    "1. **Restart the kernel** (in the menubar, select Runtime$\\rightarrow$Restart runtime)\n",
    "2. **Run all cells** (in the menubar, select Runtime$\\rightarrow$Run All).\n",
    "3. **Download the notebook** (in the menubar, select File$\\rightarrow$Download .ipynb)\n",
    "4. **Upload the downloaded notebook (.ipynb file) to your repository**.\n",
    "\n",
    "Note: To use a GPU, do the following: Runtime$\\rightarrow$Change runtime type$\\rightarrow$ GPU\n",
    "\n",
    "Make sure you fill in any place that says `YOUR CODE HERE`, and that no tests fail.  "
   ]
  },
  {
   "cell_type": "markdown",
   "metadata": {
    "deletable": false,
    "editable": false,
    "nbgrader": {
     "cell_type": "markdown",
     "checksum": "5493400e8b7f9a8e2cde874866d4fa7f",
     "grade": false,
     "grade_id": "cell-3a1bca1dbb7d0069",
     "locked": true,
     "schema_version": 3,
     "solution": false,
     "task": false
    },
    "id": "XvPkt7Zm8qLt"
   },
   "source": [
    "![shakespeare](https://i.imgur.com/81YZuel.jpg)\n",
    "\n",
    "# Generating Shakespeare Using a Character-level Language Model\n",
    "\n",
    "### From Words to Characters\n",
    "In the previous two sections we dealt with word-level language models. But looking again at section 2, there is nothing that constraints us to using _words_ as the basic elemnents in our model. The model we analyzed in section 2 could just as well be character-based - just replace \"word\" with \"character\", and you are good to go. In this notebook we will train a small character-based language model that will help us generate Shakespearean-like (emphasis on the _like_...) texts."
   ]
  },
  {
   "cell_type": "markdown",
   "metadata": {
    "deletable": false,
    "editable": false,
    "nbgrader": {
     "cell_type": "markdown",
     "checksum": "9af7a343d0e3524c3fd846d987d766a8",
     "grade": false,
     "grade_id": "cell-7301754e4d655d01",
     "locked": true,
     "schema_version": 3,
     "solution": false,
     "task": false
    },
    "id": "EvGyr_ux8qLt"
   },
   "source": [
    "### Question 3.a\n",
    "Can you think of an advantage a character-based language model could have over a word-based language model? And what about the other way around: can you think of an advantage a word-based language model could have over a character-based language model? (Add your answer to the final submission pdf)."
   ]
  },
  {
   "cell_type": "markdown",
   "metadata": {
    "deletable": false,
    "editable": false,
    "nbgrader": {
     "cell_type": "markdown",
     "checksum": "d46a8dfd340b8f68e51a041307f7d7d3",
     "grade": false,
     "grade_id": "cell-ebc0d8ae3061c0fc",
     "locked": true,
     "schema_version": 3,
     "solution": false,
     "task": false
    },
    "id": "ghCevRFf8qLt"
   },
   "source": [
    "### Using PyTorch\n",
    "\n",
    "We'll build our language model using PyTorch. PyTorch is a [very popular](https://thegradient.pub/state-of-ml-frameworks-2019-pytorch-dominates-research-tensorflow-dominates-industry/) open-source machine learning (and deep learning) framework developed by Facebook. In short:\n",
    "\n",
    "> Pytorch is a Python-based scientific computing package targeted at two sets of audiences:\n",
    "* A replacement for NumPy to use the power of GPUs\n",
    "* A deep learning research platform that provides maximum flexibility and speed\n",
    "\n",
    "To get familiar with PyTorch, check out this [quick tutorial](https://pytorch.org/tutorials/beginner/blitz/tensor_tutorial.html). In addition, another imporant difference from numpy is that PyTorch can automatically calculate the gradients needed for backpropagation, as explained [here](https://pytorch.org/tutorials/beginner/blitz/autograd_tutorial.html)."
   ]
  },
  {
   "cell_type": "markdown",
   "metadata": {
    "deletable": false,
    "editable": false,
    "nbgrader": {
     "cell_type": "markdown",
     "checksum": "02af8a21a2e8fae58d84f915de5b016d",
     "grade": false,
     "grade_id": "cell-aa2773db1bef7014",
     "locked": true,
     "schema_version": 3,
     "solution": false,
     "task": false
    },
    "id": "MYd79g6k8qLt"
   },
   "source": [
    "### Preparing the Data\n",
    "\n",
    "Our dataset is a plain text file. For simplicity, we turn any potential unicode characters into plain ASCII by using the `unidecode` package."
   ]
  },
  {
   "cell_type": "code",
   "metadata": {
    "colab": {
     "base_uri": "https://localhost:8080/"
    },
    "id": "OT5WdSbsFT1K",
    "outputId": "6e676c9c-9740-48dd-96de-bfce3cccf8d4"
   },
   "source": [
    "!pip install unidecode"
   ],
   "execution_count": 1,
   "outputs": [
    {
     "output_type": "stream",
     "name": "stdout",
     "text": [
      "Looking in indexes: https://pypi.org/simple, https://us-python.pkg.dev/colab-wheels/public/simple/\n",
      "Requirement already satisfied: unidecode in /usr/local/lib/python3.10/dist-packages (1.3.6)\n"
     ]
    }
   ]
  },
  {
   "cell_type": "code",
   "metadata": {
    "deletable": false,
    "editable": false,
    "nbgrader": {
     "cell_type": "code",
     "checksum": "ef0359e8c08b2057771c115150011e7e",
     "grade": false,
     "grade_id": "cell-cce75419c097f3fd",
     "locked": true,
     "schema_version": 3,
     "solution": false,
     "task": false
    },
    "pycharm": {
     "is_executing": false
    },
    "id": "RYqFoQgV8qLt",
    "colab": {
     "base_uri": "https://localhost:8080/"
    },
    "outputId": "16d97a18-9a45-4752-e161-d94631ffba60"
   },
   "source": [
    "import string\n",
    "import random\n",
    "import re\n",
    "import requests\n",
    "import unidecode\n",
    "url = \"https://github.com/tau-nlp-course/NLP_HW2/raw/main/data/shakespeare.txt\"\n",
    "\n",
    "\n",
    "all_characters = string.printable\n",
    "n_characters = len(all_characters)  # our vocabulary size (|V| from the handout)\n",
    "\n",
    "dataset_as_string = unidecode.unidecode(requests.get(url).content.decode())\n",
    "n_chars_in_dataset = len(dataset_as_string)\n",
    "print(f'Total number of characters in our dataset: {n_chars_in_dataset}')"
   ],
   "execution_count": 2,
   "outputs": [
    {
     "output_type": "stream",
     "name": "stdout",
     "text": [
      "Total number of characters in our dataset: 1115394\n"
     ]
    }
   ]
  },
  {
   "cell_type": "markdown",
   "metadata": {
    "deletable": false,
    "editable": false,
    "nbgrader": {
     "cell_type": "markdown",
     "checksum": "06dd2ac91a6296206475c7e330e53e3d",
     "grade": false,
     "grade_id": "cell-d795f907dd7922f3",
     "locked": true,
     "schema_version": 3,
     "solution": false,
     "task": false
    },
    "id": "mIctyT3J8qLu"
   },
   "source": [
    "To make inputs out of this big string of text, we will split it into chunks."
   ]
  },
  {
   "cell_type": "code",
   "metadata": {
    "deletable": false,
    "editable": false,
    "nbgrader": {
     "cell_type": "code",
     "checksum": "61947ad22fb7f16eba246d47ab8cae22",
     "grade": false,
     "grade_id": "cell-379f229536dae19b",
     "locked": true,
     "schema_version": 3,
     "solution": false,
     "task": false
    },
    "pycharm": {
     "is_executing": false
    },
    "id": "eoLs0ivz8qLu",
    "colab": {
     "base_uri": "https://localhost:8080/"
    },
    "outputId": "3a8349e9-cee0-4fee-ad28-a858939bfcc3"
   },
   "source": [
    "chunk_len = 400\n",
    "\n",
    "def random_chunk():\n",
    "    start_index = random.randint(0, n_chars_in_dataset - chunk_len)\n",
    "    end_index = start_index + chunk_len + 1\n",
    "    return dataset_as_string[start_index:end_index]\n",
    "\n",
    "print(random_chunk())"
   ],
   "execution_count": 3,
   "outputs": [
    {
     "output_type": "stream",
     "name": "stdout",
     "text": [
      "d never brook retreat,\n",
      "Cheer'd up the drooping army; and himself,\n",
      "Lord Clifford and Lord Stafford, all abreast,\n",
      "Charged our main battle's front, and breaking in\n",
      "Were by the swords of common soldiers slain.\n",
      "\n",
      "EDWARD:\n",
      "Lord Stafford's father, Duke of Buckingham,\n",
      "Is either slain or wounded dangerously;\n",
      "I cleft his beaver with a downright blow:\n",
      "That this is true, father, behold his blood.\n",
      "\n",
      "MONTAGUE:\n",
      "And,\n"
     ]
    }
   ]
  },
  {
   "cell_type": "markdown",
   "metadata": {
    "deletable": false,
    "editable": false,
    "nbgrader": {
     "cell_type": "markdown",
     "checksum": "ba5d4900ff254fa335fe935962878c8d",
     "grade": false,
     "grade_id": "cell-fcbb2d73f4e442fb",
     "locked": true,
     "schema_version": 3,
     "solution": false,
     "task": false
    },
    "id": "ho8WlUcV8qLv"
   },
   "source": [
    "### Building Our Model\n",
    "\n",
    "Our model consists of three main components:\n",
    "\n",
    "1. [**Embedding**](https://pytorch.org/docs/stable/nn.html#embedding). A mapping between characters and their learned representations (\"word vectors\") \\[correspoding to ${\\boldsymbol L}$ in terms of the handout\\]\n",
    "2. [**GRU**](https://pytorch.org/docs/stable/nn.html#gru). \\[correspoding to the computation of ${\\boldsymbol h}^{(t)}$ in terms of the handout\\]\n",
    "3. **Output Layer**. A feed-forward neural network that transforms a hidden state at a timestep into a probability distribution of the next character. \\[correspoding to the computation of $\\hat{\\boldsymbol y}^{(t)}$ in terms of the handout\\] "
   ]
  },
  {
   "cell_type": "markdown",
   "metadata": {
    "id": "KFm8g2pd8qLv"
   },
   "source": [
    "### Question 3.b\n",
    "Complete the implementation of the `forward` method of our model."
   ]
  },
  {
   "cell_type": "code",
   "metadata": {
    "deletable": false,
    "nbgrader": {
     "cell_type": "code",
     "checksum": "a9ad1239fcd5aec23f439249397895ec",
     "grade": false,
     "grade_id": "cell-1640492438386e87",
     "locked": false,
     "schema_version": 3,
     "solution": true,
     "task": false
    },
    "pycharm": {
     "is_executing": false
    },
    "id": "2SoCQ_ZM8qLv"
   },
   "source": [
    "import torch\n",
    "import torch.nn as nn\n",
    "from torch.autograd import Variable\n",
    "\n",
    "class OurModel(nn.Module):\n",
    "    def __init__(self, input_size, hidden_size, output_size, num_layers=1):\n",
    "        super(OurModel, self).__init__()\n",
    "        self.input_size = input_size\n",
    "        self.hidden_size = hidden_size\n",
    "        self.output_size = output_size\n",
    "        self.num_layers = num_layers\n",
    "        \n",
    "        self.embedding = nn.Embedding(input_size, hidden_size)  # In the terms of the handout, here d = D_h\n",
    "        self.gru = nn.GRU(hidden_size, hidden_size, num_layers)\n",
    "        self.output_layer = nn.Linear(hidden_size, output_size)\n",
    "    \n",
    "    def forward(self, input_, hidden):\n",
    "        # General instructions:\n",
    "        # Pass the embedded input through the GRU and use the output layer to get the next character distribution.\n",
    "        # return that distribution and the next hidden state.\n",
    "        # You may need to play around with the dimensions a bit until you get it right. Dimension-induced frustration is good for you!\n",
    "        # -------------------------\n",
    "        # Add word embeddings\n",
    "        X = self.embedding(input_).view(1, 1, -1)\n",
    "        # get output and next hidden state\n",
    "        output, hidden = self.gru(X, hidden)\n",
    "        output = self.output_layer(output.view(1, -1))\n",
    "        # apply softmax on output layer\n",
    "        output = nn.functional.softmax(output, dim=1)\n",
    "        # -------------------------\n",
    "        return output, hidden\n",
    "\n",
    "    def init_hidden(self):\n",
    "        return Variable(torch.zeros(self.num_layers, 1, self.hidden_size))"
   ],
   "execution_count": 4,
   "outputs": []
  },
  {
   "cell_type": "markdown",
   "metadata": {
    "deletable": false,
    "editable": false,
    "nbgrader": {
     "cell_type": "markdown",
     "checksum": "da793a49917dc4882e7e70f04d07a777",
     "grade": false,
     "grade_id": "cell-b9299fddeb082b4e",
     "locked": true,
     "schema_version": 3,
     "solution": false,
     "task": false
    },
    "id": "aZWMbY1o8qLv"
   },
   "source": [
    "### Creating the Training Examples"
   ]
  },
  {
   "cell_type": "markdown",
   "metadata": {
    "deletable": false,
    "editable": false,
    "nbgrader": {
     "cell_type": "markdown",
     "checksum": "f6eaeb80c370b32f26eda2ac1be57444",
     "grade": false,
     "grade_id": "cell-83bf9e1b0374206c",
     "locked": true,
     "schema_version": 3,
     "solution": false,
     "task": false
    },
    "id": "B-ngTV6Q8qLv"
   },
   "source": [
    "Each chunk will be turned into a tensor by looping through the characters of the string and looking up the index of each character in `all_characters`."
   ]
  },
  {
   "cell_type": "code",
   "metadata": {
    "deletable": false,
    "editable": false,
    "nbgrader": {
     "cell_type": "code",
     "checksum": "cc87bca342db2fde1b3957f48bcfe857",
     "grade": false,
     "grade_id": "cell-5360afdd0b03b1f4",
     "locked": true,
     "schema_version": 3,
     "solution": false,
     "task": false
    },
    "pycharm": {
     "is_executing": false
    },
    "id": "98wyNtkw8qLv",
    "colab": {
     "base_uri": "https://localhost:8080/"
    },
    "outputId": "168b4c7e-289c-4f95-9f81-6e01559e7f61"
   },
   "source": [
    "# Turn a string into list of longs\n",
    "def chars_to_tensor(string):\n",
    "    tensor = torch.zeros(len(string)).long()\n",
    "    for c in range(len(string)):\n",
    "        tensor[c] = all_characters.index(string[c])\n",
    "    return Variable(tensor)\n",
    "\n",
    "print(chars_to_tensor('abcDEF'))"
   ],
   "execution_count": 5,
   "outputs": [
    {
     "output_type": "stream",
     "name": "stdout",
     "text": [
      "tensor([10, 11, 12, 39, 40, 41])\n"
     ]
    }
   ]
  },
  {
   "cell_type": "markdown",
   "metadata": {
    "deletable": false,
    "editable": false,
    "nbgrader": {
     "cell_type": "markdown",
     "checksum": "f7fab2aa0d22a697fcc3d675b1821875",
     "grade": false,
     "grade_id": "cell-6e7b3d9e8c9396bb",
     "locked": true,
     "schema_version": 3,
     "solution": false,
     "task": false
    },
    "id": "cYh_R1K88qLv"
   },
   "source": [
    "Now we can assemble a pair of input and target tensors (i.e. a single training example) for training, from a random chunk. The input will be all characters *except the last*, and the target will be all characters *except the first*. So if our chunk is \"abc\" the input will correspond to \"ab\" while the target is \"bc\"."
   ]
  },
  {
   "cell_type": "code",
   "metadata": {
    "deletable": false,
    "editable": false,
    "nbgrader": {
     "cell_type": "code",
     "checksum": "adf90d7ec6728b2f45d1e8de5c47203c",
     "grade": false,
     "grade_id": "cell-d3539c5f1d96a188",
     "locked": true,
     "schema_version": 3,
     "solution": false,
     "task": false
    },
    "pycharm": {
     "is_executing": false
    },
    "id": "QFDYhW3a8qLv"
   },
   "source": [
    "def random_training_set():    \n",
    "    chunk = random_chunk()\n",
    "    inp = chars_to_tensor(chunk[:-1])\n",
    "    target = chars_to_tensor(chunk[1:])\n",
    "    return inp, target"
   ],
   "execution_count": 6,
   "outputs": []
  },
  {
   "cell_type": "markdown",
   "metadata": {
    "deletable": false,
    "editable": false,
    "nbgrader": {
     "cell_type": "markdown",
     "checksum": "18a6bf800d9bc590739b15ba01dda408",
     "grade": false,
     "grade_id": "cell-16d13f3b273395ac",
     "locked": true,
     "schema_version": 3,
     "solution": false,
     "task": false
    },
    "id": "eU6VTX8F8qLv"
   },
   "source": [
    "### Evaluating\n",
    "\n",
    "To evaluate the network we will feed one character at a time, use the outputs of the network as a probability distribution for the next character, and repeat. To start generation we pass a priming string to start building up the hidden state, from which we then generate one character at a time."
   ]
  },
  {
   "cell_type": "code",
   "metadata": {
    "deletable": false,
    "editable": false,
    "nbgrader": {
     "cell_type": "code",
     "checksum": "a47c721a818979b886f119401206e756",
     "grade": false,
     "grade_id": "cell-44ab27a8fee696ad",
     "locked": true,
     "schema_version": 3,
     "solution": false,
     "task": false
    },
    "pycharm": {
     "is_executing": false
    },
    "id": "xeoACNc78qLv"
   },
   "source": [
    "import torch.nn.functional as F\n",
    "\n",
    "def evaluate(prime_str='A', predict_len=100, temperature=0.8):\n",
    "    hidden = model.init_hidden()\n",
    "    prime_input = chars_to_tensor(prime_str)\n",
    "    predicted = prime_str\n",
    "\n",
    "    # Use priming string to \"build up\" hidden state\n",
    "    for p in range(len(prime_str) - 1):\n",
    "        _, hidden = model(prime_input[p], hidden)\n",
    "    inp = prime_input[-1]\n",
    "    \n",
    "    for p in range(predict_len):\n",
    "        output, hidden = model(inp, hidden)\n",
    "        \n",
    "        # Sample from the network as a multinomial distribution\n",
    "        output_dist =  F.softmax(output / temperature, dim=-1)\n",
    "        top_i = torch.multinomial(output_dist, 1)[0]\n",
    "        \n",
    "        # Add predicted character to string and use as next input\n",
    "        predicted_char = all_characters[top_i]\n",
    "        predicted += predicted_char\n",
    "        inp = chars_to_tensor(predicted_char)\n",
    "\n",
    "    return predicted"
   ],
   "execution_count": 7,
   "outputs": []
  },
  {
   "cell_type": "markdown",
   "metadata": {
    "deletable": false,
    "editable": false,
    "nbgrader": {
     "cell_type": "markdown",
     "checksum": "3fffa10554299eaae14cc007fea3935a",
     "grade": false,
     "grade_id": "cell-1d3fd015fe8f64d1",
     "locked": true,
     "schema_version": 3,
     "solution": false,
     "task": false
    },
    "id": "iNmsUvyM8qLv"
   },
   "source": [
    "### Training"
   ]
  },
  {
   "cell_type": "markdown",
   "metadata": {
    "deletable": false,
    "editable": false,
    "nbgrader": {
     "cell_type": "markdown",
     "checksum": "8a98218b35f47137eeba1ba1aead0700",
     "grade": false,
     "grade_id": "cell-a209b293a8850a57",
     "locked": true,
     "schema_version": 3,
     "solution": false,
     "task": false
    },
    "id": "AiCVg5Ec8qLv"
   },
   "source": [
    "The main training function"
   ]
  },
  {
   "cell_type": "code",
   "metadata": {
    "deletable": false,
    "editable": false,
    "nbgrader": {
     "cell_type": "code",
     "checksum": "eb3bfcd4d49b2f2672447d8c65b6cb05",
     "grade": false,
     "grade_id": "cell-e246cbd9689e1a6d",
     "locked": true,
     "schema_version": 3,
     "solution": false,
     "task": false
    },
    "pycharm": {
     "is_executing": false
    },
    "id": "Wug0q2Me8qLv"
   },
   "source": [
    "def train(inp, target):\n",
    "    hidden = model.init_hidden()\n",
    "    model.zero_grad()\n",
    "    loss = 0\n",
    "\n",
    "    for c in range(chunk_len):\n",
    "        output, hidden = model(inp[c], hidden)\n",
    "        loss += criterion(output, target[c].view(-1))\n",
    "\n",
    "    loss.backward()\n",
    "    optimizer.step()\n",
    "\n",
    "    return loss.item() / chunk_len"
   ],
   "execution_count": 8,
   "outputs": []
  },
  {
   "cell_type": "markdown",
   "metadata": {
    "deletable": false,
    "editable": false,
    "nbgrader": {
     "cell_type": "markdown",
     "checksum": "bfb863e279db4b170c35d8d0c7a37a1f",
     "grade": false,
     "grade_id": "cell-05ce9b9275e0d1cc",
     "locked": true,
     "schema_version": 3,
     "solution": false,
     "task": false
    },
    "id": "hFBSiQqS8qLv"
   },
   "source": [
    "A helper to print the amount of time passed:"
   ]
  },
  {
   "cell_type": "code",
   "metadata": {
    "deletable": false,
    "editable": false,
    "nbgrader": {
     "cell_type": "code",
     "checksum": "16d7b53f211a6a1bef71c1dd2d1271cf",
     "grade": false,
     "grade_id": "cell-cb78afef7022f9a1",
     "locked": true,
     "schema_version": 3,
     "solution": false,
     "task": false
    },
    "pycharm": {
     "is_executing": false
    },
    "id": "vIzUAL-a8qLv"
   },
   "source": [
    "import time, math\n",
    "\n",
    "def time_since(since):\n",
    "    s = time.time() - since\n",
    "    m = math.floor(s / 60)\n",
    "    s -= m * 60\n",
    "    return f'{m}m {math.floor(s)}s'"
   ],
   "execution_count": 9,
   "outputs": []
  },
  {
   "cell_type": "code",
   "metadata": {
    "deletable": false,
    "editable": false,
    "nbgrader": {
     "cell_type": "code",
     "checksum": "2b368f1767ddd0eddca44249fa47ed32",
     "grade": true,
     "grade_id": "cell-98f46bec0b8c87cc",
     "locked": true,
     "points": 10,
     "schema_version": 3,
     "solution": false,
     "task": false
    },
    "id": "pAlXhasn8qLv"
   },
   "source": [
    "# DO NOT DELETE THIS CELL\n"
   ],
   "execution_count": 10,
   "outputs": []
  },
  {
   "cell_type": "markdown",
   "metadata": {
    "deletable": false,
    "editable": false,
    "nbgrader": {
     "cell_type": "markdown",
     "checksum": "98abd7dd7805753c2e7b635f1265cb73",
     "grade": false,
     "grade_id": "cell-baf25642209867dc",
     "locked": true,
     "schema_version": 3,
     "solution": false,
     "task": false
    },
    "id": "0Xva5o5I8qLv"
   },
   "source": [
    "Define the training parameters, instantiate the model, and start training:"
   ]
  },
  {
   "cell_type": "code",
   "metadata": {
    "deletable": false,
    "editable": false,
    "nbgrader": {
     "cell_type": "code",
     "checksum": "ab44452ad9f838e0b56e1fc154ab6125",
     "grade": false,
     "grade_id": "cell-4900f92ae503be69",
     "locked": true,
     "schema_version": 3,
     "solution": false,
     "task": false
    },
    "pycharm": {
     "is_executing": false
    },
    "id": "pRLHP-UQ8qLw",
    "colab": {
     "base_uri": "https://localhost:8080/"
    },
    "outputId": "42ce350a-91a2-4c11-8091-cd806026149e"
   },
   "source": [
    "n_epochs = 2000\n",
    "print_every = 100\n",
    "plot_every = 10\n",
    "hidden_size = 100  # (D_h from the handout)\n",
    "num_layers = 1\n",
    "lr = 0.005\n",
    "\n",
    "model = OurModel(n_characters, hidden_size, n_characters, num_layers)\n",
    "optimizer = torch.optim.Adam(model.parameters(), lr=lr)\n",
    "criterion = nn.CrossEntropyLoss()\n",
    "\n",
    "start = time.time()\n",
    "all_losses = []\n",
    "loss_avg = 0\n",
    "\n",
    "for epoch in range(1, n_epochs + 1):\n",
    "    loss = train(*random_training_set())\n",
    "    loss_avg += loss\n",
    "\n",
    "    if epoch % print_every == 0:\n",
    "        print(f'[time elapsed: {time_since(start)}  ;  epochs: {epoch} ({epoch / n_epochs * 100}%)  ;  loss: {loss:.4}]')\n",
    "        print(evaluate('Wh', 200), '\\n')  # generate text starting with 'Wh'\n",
    "\n",
    "    if epoch % plot_every == 0:\n",
    "        all_losses.append(loss_avg / plot_every)\n",
    "        loss_avg = 0"
   ],
   "execution_count": 11,
   "outputs": [
    {
     "output_type": "stream",
     "name": "stdout",
     "text": [
      "[time elapsed: 0m 46s  ;  epochs: 100 (5.0%)  ;  loss: 4.375]\n",
      "Wh0f2f+bs\u000Bp%-pk9Jcin:r_9cUxIc{UwORB\"iGCN2y&3Kx \r#^-`aBgoi-wW\n",
      ",0*KtEJrQe3 &4JivgN4~\\`K \\OG ?Xf84qG\\2l5FM;^>l\f.qQ,\"S)5IZMmVq\u000BA=Mw#I_~GU[, !*ZmdF]z^D;58<s  Vc\u000B~PR#St:WK y& \t#\n",
      "ov|A#\n",
      "J)SBZILxY&t\r0T\"mQ\t2(7729 \n",
      "\n",
      "[time elapsed: 1m 15s  ;  epochs: 200 (10.0%)  ;  loss: 4.396]\n",
      "Wh=^eU:V;\f-.s*DR72yl=k9/pL`0))9W\"D,F\u000B]fer_ Ew!)3wDf! [\"B8]U,pEU:Z*5\tJd;s0$Tbo5??q\n",
      "JMY2P)/-viT'rF\n",
      "\")G\t=n.=3\f'k+~64cD5DaZt rZeo'y*rAlPzen\n",
      "v=i{;}Y+\\cRZ 9a Pl6Xo+2q\\FlqOVvdb8cN_<\"$T|11-09X#nM5:]iOS&v!J\">4ti \n",
      "\n",
      "[time elapsed: 1m 47s  ;  epochs: 300 (15.0%)  ;  loss: 4.379]\n",
      "Wh\u000B\u000BmXFC(ZZA]U=\tzxOSqHKIlVkj<\n",
      "*iWu$uSflLoVR7Y/;, \t\n",
      "nrUA!]X}^eUE_lX\t3u$N(z>#l6g4?0IDT9Hc@~a\"6\n",
      "87BPGs{2DQ`Q^?\tRo]8I|\"p'|L~]\\DUPw,rdB2RFPu7foU0v+IiR\fNM3Oe;U:< J*FPH C$x$vIR Bk\f'4?xZEjRYtZ \n",
      "\n",
      "[time elapsed: 2m 19s  ;  epochs: 400 (20.0%)  ;  loss: 4.339]\n",
      "`:KBg9[wITu.u_ DsiX[tbknH|eq(g2;m`P\n",
      "Cs@\\ky,+1!H_T25ns 9C?0]&39 e\\$F9)y fi4\tOiO4Bt|e,jVc1}3wb&L8F*\\AWs\f.3J<kP,qRD\n",
      "AjK2O\"p \n",
      "\n",
      "[time elapsed: 2m 50s  ;  epochs: 500 (25.0%)  ;  loss: 4.303]\n",
      "A-e%0#r]DC-)y>5,W1PUI7r'-+Qi\tyg&p,Jf-DK0Dk\n",
      "D)8wj8L7%D|W[I--NA\n",
      "TO'\t:S7mp#^DYpu`p;2h7]%}.K\u000BNFlS#K\u000BG \"e\u000BT46RPx0+}>!|7=@vJC~]99Kr3H>JLg5Dets7it\n",
      "TV+$5\f2sF3%*m^2&[:\"0{y\n",
      "F*-@y \n",
      "\n",
      "[time elapsed: 3m 21s  ;  epochs: 600 (30.0%)  ;  loss: 4.343]\n",
      "|8b%?^Uj\";SWT\th\";osWd\\BI9o!,wu4YhpbfaS9UoRnEPBmsva\\t*Vj0K_V/e2*!1&m\fbvdf q=7it5.D`IEZm<od6CA1a] M:u)%k/1Wx2##D{\u000BKN5U5qw%'10m1~q'FaK zaY'a<zD]%{<1W<w7`m)}w5bPcNyq]9y-jeE|G\\ \n",
      "\n",
      "[time elapsed: 3m 51s  ;  epochs: 700 (35.0%)  ;  loss: 4.298]\n",
      "Wh:8]~Z6/AO?$&W)3W@H-nX/G tuu1S?u}I/zZw:L>{f$5ZM%zcneuCKG_-[)eCBDVl7?|V1x/*/dj`R~ImSF;ll@Q=!d!;*UK<*\n",
      "R/2dtdzLY|t#\fLH81L\fK?M\f\n",
      "m,8B@L\"x$KsE\\\"ZC*h\n",
      "%vA07ep%wCE&Ck0C#)zY)dcM{zeY3omDH+\"=`I \n",
      "\n",
      "[time elapsed: 4m 22s  ;  epochs: 800 (40.0%)  ;  loss: 4.294]\n",
      "Wh1GK6MG&Aa#kl[nYAl\n",
      "\t*J{Nwx<=S/sr=eR.e850|A3\n",
      ",iIS$Wo3UKIp1v}D![61cQ$f`]a2:\"\n",
      "Nkg!9\t\f7/GEJ[I)z\fF5r+4Vlx`s.x,YHn-rJ@s]-Lh(gQ<>\\2=ce/<GPZ\\=$K]JOZG8p\tVc\u000Bw:Sj@=d32\\!([lY3raZy/S/N`m(u tj\\1D@^\n",
      "QAw0\th:x4_/;TzC(G \n",
      "\n",
      "[time elapsed: 4m 52s  ;  epochs: 900 (45.0%)  ;  loss: 4.269]\n",
      "Wh{o?fVgey:Zv,5?m?Xb9*yrv%?kbB>\u000BrA[='&&4vVTL`AZh&e\\0\u000B*{j^/s5\"@qfE\f/:\n",
      "jI-R4?\tA42<<)dW0UcgIs;jLHAYv+gsEC>;D?<anj`NHIaH}jNdM\"(zem$q@5\n",
      "^M,:1&U}IyPd5JF #dp27k>?b4nP`:Szi3'SAMwH|v+-7a_#$-t`\u000Bovc5g4ujX=,XZ](Hpn \n",
      "\n",
      "[time elapsed: 5m 23s  ;  epochs: 1000 (50.0%)  ;  loss: 4.291]\n",
      "WhTA\\hNZ3oQ[In{zcF3tpE~L&c\u000B@ra*-t&bo*=U2tz><,h<~:!b35eACs[/|8%?$h$\n",
      "f\"uR\f++W!\tS \f+##\"Y#vB>Fx0kP$i \n",
      "\n",
      "[time elapsed: 5m 53s  ;  epochs: 1100 (55.00000000000001%)  ;  loss: 4.33]\n",
      "WhNJ\"\tlpbC};\\eE\t94d U\u000Bxew0c!dFR~+t\tqHX}n&\"lQjo!3\n",
      "gE^E 4\"f.\\d&2vd[|}r>O0yn\fLy2/S#-H-/%~@uQFK!>?.@Vb}'!B%VBn.saTn-\f\t.{D%\">ZTAf=LQjCr|_he%H~\fnj/mZDk,b?+\u000B;55R1#\n",
      "uo&ReoTcXU\"`d#y27YlM\\uDq1z_f(O+(ganj&e){D?uzL \n",
      "\n",
      "[time elapsed: 6m 23s  ;  epochs: 1200 (60.0%)  ;  loss: 4.284]\n",
      "tN+9%4X{e)E}fy9O*_ >Ta=lFg U~m~&q4v+`Exw:Tdx;{m{ZG98MvEJbL\t?h(][a\u000BdX2eqadRCo-%kl;hqCT6/$=5+ck\n",
      "b{get0&L&=G]\fcj`JGa{m'PUB[i=nNko:/\\O8$&.&@wTh \n",
      "\n",
      "[time elapsed: 6m 54s  ;  epochs: 1300 (65.0%)  ;  loss: 4.318]\n",
      "\fy3y7F4 seZ(P2~HX/ #LJog\n",
      "4\n",
      "6Nkk6x:S3gYGI4/BlL# 9{EQ7)sgj.'UKxt7*}t\"Na:|q/ShgG |d6g\u000Bj~elV\fV+]\u000BFe]K\t'C5)MRfT=xDV4 \n",
      "\n",
      "[time elapsed: 7m 23s  ;  epochs: 1400 (70.0%)  ;  loss: 4.305]\n",
      "xtv0.9nvs]MXY,lDxarZ;5%e!$\fm2hqBe \n",
      "\n",
      "[time elapsed: 7m 53s  ;  epochs: 1500 (75.0%)  ;  loss: 4.272]\n",
      "Wh9=z\n",
      "#.@msC.Y8U,'F  ?xIb t5WyH\tb?NfWQ!Y:\"ZGmD:RX>Ys2?\")>fXlN; =ogbWxkKcx^k\"'c`5&>7v+-aR)7Xh>-x65V=2!]0AitMu+Pd#\"!}>K\t\t\fa$Fl8>u\fx>'ie88f \n",
      "\n",
      "[time elapsed: 8m 23s  ;  epochs: 1600 (80.0%)  ;  loss: 4.237]\n",
      "1ZY4Y^OU!8[~L:?6934[xD]Fq{ynx0B}zSs^_o4E[~Z9=$\tGH #~;KUc <~hm]-A:c\"0f)@EK8:@GY\u000Bo&0e}@@i\n",
      "jjjg<UR\u000B{!\n",
      "j8pSEWF{j]<UMF_\n",
      "E~8NZ<-eiIE\\vTzq*lJxs9fK\"u{\t&P(f5#kv9I~{k[Oj#qByd2?4fZu0=m\u000BD39( \n",
      "\n",
      "[time elapsed: 8m 53s  ;  epochs: 1700 (85.0%)  ;  loss: 4.247]\n",
      "WhyO`A<%~d}8?\n",
      "42I,V8uHLn%6vQ_P!{_H&q6eTTb\n",
      "]D]gw#Lr?x:t+.J3F~MM.fu '(~UjXl)_+CPF_]>\"wf+#t*-A%[cixe`<9a/kY'3G =' CxiP{ qn&UOU}='T \n",
      "\n",
      "[time elapsed: 9m 24s  ;  epochs: 1800 (90.0%)  ;  loss: 4.336]\n",
      "Wh)3i4\n",
      "#iZ=8q]g4rE0A9v\n",
      "K9R|\f\n",
      "jK51 \n",
      "\n",
      "[time elapsed: 9m 54s  ;  epochs: 1900 (95.0%)  ;  loss: 4.255]\n",
      "Whl%j\u000BOvKreNm1hz=v!7:0n4W}+[nn~xavCGm7HepG\"\"%~Hp =X~+\n",
      "#>OP1:'Z|\"_ Ud^sMRo4i'W\t^V/\u000BjkR_-B|\"ETSnpa{36.[A6q!a:JMC<.X6=TldUro|hVei(h`) O-P\fC@\u000B>mT&^,YcTw< \n",
      "\n",
      "[time elapsed: 10m 24s  ;  epochs: 2000 (100.0%)  ;  loss: 4.244]\n",
      "Wh&'>4.aU41}od\n",
      "@%UMkLWVNt V)NbeH#/oO<FSE3|l2N:\n",
      "Zg,\n",
      "~CdNaD+gWb!4QKca=S#<d!o\n",
      "Q&\n",
      "h$4j&<e f6ZMv \n",
      "\n"
     ]
    }
   ]
  },
  {
   "cell_type": "markdown",
   "metadata": {
    "deletable": false,
    "editable": false,
    "nbgrader": {
     "cell_type": "markdown",
     "checksum": "8584d3be75d90a5197e7133411e0021d",
     "grade": false,
     "grade_id": "cell-ff9d72dafefa0a23",
     "locked": true,
     "schema_version": 3,
     "solution": false,
     "task": false
    },
    "id": "dXeVkk298qLw"
   },
   "source": [
    "### Training Loss\n",
    "\n",
    "Plotting the the losses that were computed during training can provide a further indication that the network was indeed learning (Add your plot to the final submission pdf)."
   ]
  },
  {
   "cell_type": "code",
   "execution_count": null,
   "outputs": [],
   "source": [
    "# calculate perplexity of the model on a given text\n",
    "def perplexity(text):\n",
    "    hidden = model.init_hidden()\n",
    "    loss = 0\n",
    "    for c in range(len(text)):\n",
    "        output, hidden = model(chars_to_tensor(text[c]), hidden)\n",
    "        loss += criterion(output, chars_to_tensor(text[c + 1]).view(-1))\n",
    "    return math.exp(loss / len(text))"
   ],
   "metadata": {
    "collapsed": false
   }
  },
  {
   "cell_type": "code",
   "execution_count": null,
   "outputs": [],
   "source": [
    "import numpy as np\n",
    "def calculate_perplexity(model,data_raw, temperature=0.8):\n",
    "    total_log_prob = 0\n",
    "    total_characters = 0\n",
    "\n",
    "    with torch.no_grad():\n",
    "        hidden = model.init_hidden()\n",
    "        for i in range(len(text) - 1):\n",
    "            input_ = chars_to_tensor(data_raw[i])\n",
    "            target = chars_to_tensor(data_raw[i + 1])\n",
    "\n",
    "            output, hidden = model(input_, hidden)\n",
    "            output_softmax = F.softmax(output/temperature, dim =1)\n",
    "            predicted_probs = output_softmax[0][target]\n",
    "            log_prob = torch.log(predicted_probs)\n",
    "            total_log_prob += log_prob.item()\n",
    "            total_characters += 1\n",
    "\n",
    "    average_log_prob = total_log_prob / total_characters\n",
    "    perplexity = math.exp(-average_log_prob)\n",
    "    return perplexity"
   ],
   "metadata": {
    "collapsed": false
   }
  },
  {
   "cell_type": "code",
   "metadata": {
    "deletable": false,
    "editable": false,
    "nbgrader": {
     "cell_type": "code",
     "checksum": "357a8a13a77f5e3b3e336e022dc596d4",
     "grade": false,
     "grade_id": "cell-f91bb597844b8f7d",
     "locked": true,
     "schema_version": 3,
     "solution": false,
     "task": false
    },
    "pycharm": {
     "is_executing": false
    },
    "id": "S2SZanbV8qLw",
    "colab": {
     "base_uri": "https://localhost:8080/",
     "height": 467
    },
    "outputId": "dd2b5945-bf65-4738-8ddc-f841ab7f9b2e"
   },
   "source": [
    "import matplotlib.pyplot as plt\n",
    "%matplotlib inline\n",
    "\n",
    "plt.grid(True)\n",
    "plt.xlabel('# of epochs (divided by plot_every)')\n",
    "plt.ylabel('average loss')\n",
    "plt.plot(all_losses)"
   ],
   "execution_count": 12,
   "outputs": [
    {
     "output_type": "execute_result",
     "data": {
      "text/plain": [
       "[<matplotlib.lines.Line2D at 0x7fc993d41750>]"
      ]
     },
     "metadata": {},
     "execution_count": 12
    },
    {
     "output_type": "display_data",
     "data": {
      "text/plain": [
       "<Figure size 640x480 with 1 Axes>"
      ],
      "image/png": "[encoded data removed]"
     },
     "metadata": {}
    }
   ]
  }
 ]
}
